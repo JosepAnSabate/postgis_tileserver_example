{
 "cells": [
  {
   "cell_type": "code",
   "execution_count": 1,
   "id": "cecdc233-e67f-4eb8-8f0d-ea7bde483b7d",
   "metadata": {},
   "outputs": [],
   "source": [
    "from osgeo import gdal, ogr, osr\n",
    "import geopandas as gpd\n",
    "import matplotlib.pyplot as plt"
   ]
  },
  {
   "cell_type": "markdown",
   "id": "aaa0522d-a997-48c2-abf8-3e91eb35930d",
   "metadata": {},
   "source": [
    "## Information about download dem\n",
    "\n",
    "When working with geospatial data in raster format it's crucial to understand in what projection is the data and the value of the data for the pixels with 'no data'."
   ]
  },
  {
   "cell_type": "code",
   "execution_count": 5,
   "id": "80a583be-9367-4f02-9bbd-eaf9620f1027",
   "metadata": {},
   "outputs": [
    {
     "name": "stdout",
     "output_type": "stream",
     "text": [
      "PROJCS[\"NAD83(2011) / Florida North (ftUS)\",GEOGCS[\"NAD83(2011)\",DATUM[\"NAD83_National_Spatial_Reference_System_2011\",SPHEROID[\"GRS 1980\",6378137,298.257222101,AUTHORITY[\"EPSG\",\"7019\"]],AUTHORITY[\"EPSG\",\"1116\"]],PRIMEM[\"Greenwich\",0,AUTHORITY[\"EPSG\",\"8901\"]],UNIT[\"degree\",0.0174532925199433,AUTHORITY[\"EPSG\",\"9122\"]],AUTHORITY[\"EPSG\",\"6318\"]],PROJECTION[\"Lambert_Conformal_Conic_2SP\"],PARAMETER[\"latitude_of_origin\",29],PARAMETER[\"central_meridian\",-84.5],PARAMETER[\"standard_parallel_1\",30.75],PARAMETER[\"standard_parallel_2\",29.5833333333333],PARAMETER[\"false_easting\",1968500],PARAMETER[\"false_northing\",0],UNIT[\"US survey foot\",0.304800609601219,AUTHORITY[\"EPSG\",\"9003\"]],AXIS[\"Easting\",EAST],AXIS[\"Northing\",NORTH],AUTHORITY[\"EPSG\",\"6441\"]]\n"
     ]
    }
   ],
   "source": [
    "input_file = \"../source_data/dem.tif\"\n",
    "# open dem with gdal\n",
    "dem = gdal.Open(input_file)\n",
    "band = dem.GetRasterBand(1) # this rawster only has one band\n",
    "array = band.ReadAsArray()\n",
    "\n",
    "print(dem.GetProjection())"
   ]
  },
  {
   "cell_type": "code",
   "execution_count": 6,
   "id": "c6e78c18-b0d6-413a-91dd-e7a08bb52768",
   "metadata": {},
   "outputs": [
    {
     "data": {
      "text/plain": [
       "array([[-999999., -999999., -999999., ..., -999999., -999999., -999999.],\n",
       "       [-999999., -999999., -999999., ..., -999999., -999999., -999999.],\n",
       "       [-999999., -999999., -999999., ..., -999999., -999999., -999999.],\n",
       "       ...,\n",
       "       [-999999., -999999., -999999., ..., -999999., -999999., -999999.],\n",
       "       [-999999., -999999., -999999., ..., -999999., -999999., -999999.],\n",
       "       [-999999., -999999., -999999., ..., -999999., -999999., -999999.]],\n",
       "      dtype=float32)"
      ]
     },
     "execution_count": 6,
     "metadata": {},
     "output_type": "execute_result"
    }
   ],
   "source": [
    "# raster values as array\n",
    "array"
   ]
  },
  {
   "cell_type": "code",
   "execution_count": 9,
   "id": "b3781900-03fe-4f38-90fe-304fb2bf8a74",
   "metadata": {},
   "outputs": [
    {
     "data": {
      "text/plain": [
       "-999999.0"
      ]
     },
     "execution_count": 9,
     "metadata": {},
     "output_type": "execute_result"
    }
   ],
   "source": [
    "# values of no data \n",
    "band.GetNoDataValue()"
   ]
  },
  {
   "cell_type": "code",
   "execution_count": 8,
   "id": "945c290c-7416-457f-bf5a-905f72bc75d4",
   "metadata": {},
   "outputs": [
    {
     "data": {
      "text/plain": [
       "(2891, 10692)"
      ]
     },
     "execution_count": 8,
     "metadata": {},
     "output_type": "execute_result"
    }
   ],
   "source": [
    "array.shape"
   ]
  },
  {
   "cell_type": "code",
   "execution_count": 19,
   "id": "fa8d0d79-6e43-46ce-9122-100c2b791b90",
   "metadata": {},
   "outputs": [
    {
     "data": {
      "image/png": "[encoded data removed]",
      "text/plain": [
       "<Figure size 1200x800 with 2 Axes>"
      ]
     },
     "metadata": {},
     "output_type": "display_data"
    }
   ],
   "source": [
    "fig = plt.figure(figsize = (12, 8))\n",
    "ax = fig.add_subplot(111)\n",
    "plt.contourf(array, cmap = \"viridis\", \n",
    "            levels = list(range(-10, 2, 2)))\n",
    "plt.title(\"Elevation Contours\")\n",
    "cbar = plt.colorbar(shrink=0.5)\n",
    "plt.gca().set_aspect('equal', adjustable='box')\n",
    "plt.show()"
   ]
  },
  {
   "cell_type": "markdown",
   "id": "103bbfcc-68f0-4d8c-9f67-e4b4caf19565",
   "metadata": {},
   "source": [
    "## Reproject to EPSG:4326 (WGS84)"
   ]
  },
  {
   "cell_type": "code",
   "execution_count": 20,
   "id": "b9b087c4-27cd-41f7-ad12-851dcaf9fe8d",
   "metadata": {},
   "outputs": [],
   "source": [
    "output_file = \"../source_data/dem_rep.tif\"\n",
    "\n",
    "# define the target CRS \n",
    "target_crs = \"EPSG:4326\"\n",
    "\n",
    "# GDAL WarpOptions to reproject \n",
    "warp_options = gdal.WarpOptions(dstSRS=target_crs)\n",
    "\n",
    "# reproject \n",
    "gdal.Warp(output_file, dem, options=warp_options)\n",
    "\n",
    "dem = None"
   ]
  },
  {
   "cell_type": "markdown",
   "id": "790d0c45-1e10-422c-b372-9c5ce847f126",
   "metadata": {},
   "source": [
    "## Create the shapefile"
   ]
  },
  {
   "cell_type": "code",
   "execution_count": 22,
   "id": "f310dc3f-ef21-40c0-b187-0ec323d7b115",
   "metadata": {},
   "outputs": [],
   "source": [
    "dem_r_path =  \"../source_data/dem_rep.tif\""
   ]
  },
  {
   "cell_type": "code",
   "execution_count": 23,
   "id": "baf2b58e-dcfd-43e9-9220-8e0f36af76a2",
   "metadata": {},
   "outputs": [
    {
     "name": "stdout",
     "output_type": "stream",
     "text": [
      "GEOGCS[\"WGS 84\",DATUM[\"WGS_1984\",SPHEROID[\"WGS 84\",6378137,298.257223563,AUTHORITY[\"EPSG\",\"7030\"]],AUTHORITY[\"EPSG\",\"6326\"]],PRIMEM[\"Greenwich\",0,AUTHORITY[\"EPSG\",\"8901\"]],UNIT[\"degree\",0.0174532925199433,AUTHORITY[\"EPSG\",\"9122\"]],AXIS[\"Latitude\",NORTH],AXIS[\"Longitude\",EAST],AUTHORITY[\"EPSG\",\"4326\"]]\n"
     ]
    }
   ],
   "source": [
    "dem_rep = gdal.Open(dem_r_path)\n",
    "print(dem_rep.GetProjection())\n",
    "\n",
    "band = dem_rep.GetRasterBand(1)\n",
    "array = band.ReadAsArray()"
   ]
  },
  {
   "cell_type": "code",
   "execution_count": 24,
   "id": "5a57c1be-1a16-4b82-ba4b-7d2d31411d76",
   "metadata": {},
   "outputs": [
    {
     "name": "stdout",
     "output_type": "stream",
     "text": [
      "<osgeo.ogr.DataSource; proxy of <Swig Object of type 'OGRDataSourceShadow *' at 0x000001AADCCA5E30> >\n"
     ]
    }
   ],
   "source": [
    "output_shp = '../source_data/shp/out_shapefile.shp'\n",
    "\n",
    "# assign projection to the new shp\n",
    "proj = dem_rep.GetProjection()\n",
    "shp_proj = osr.SpatialReference()\n",
    "shp_proj.ImportFromWkt(proj)\n",
    "\n",
    "# gets ogr driver\n",
    "call_drive = ogr.GetDriverByName('ESRI Shapefile')\n",
    "# create new shp using the driver\n",
    "create_shp = call_drive.CreateDataSource(output_shp) \n",
    "print(create_shp)"
   ]
  },
  {
   "cell_type": "code",
   "execution_count": 25,
   "id": "2e81d6aa-eaf3-4e2b-9faa-a4becadc2690",
   "metadata": {},
   "outputs": [
    {
     "data": {
      "text/plain": [
       "0"
      ]
     },
     "execution_count": 25,
     "metadata": {},
     "output_type": "execute_result"
    }
   ],
   "source": [
    "shp_layer = create_shp.CreateLayer('depths_layer', srs=shp_proj)\n",
    "\n",
    "# add a new field to store depth as string\n",
    "new_field = ogr.FieldDefn('depth', ogr.OFTString)  # Integer field for raster values\n",
    "shp_layer.CreateField(new_field)\n",
    "\n",
    "# create a memory layer to temporarily hold polygonized values\n",
    "mem_driver = ogr.GetDriverByName('Memory')\n",
    "mem_ds = mem_driver.CreateDataSource(\"temp_memory\")\n",
    "mem_layer = mem_ds.CreateLayer('temp_layer', srs=shp_proj)\n",
    "mem_field = ogr.FieldDefn('RasterVal', ogr.OFTInteger)\n",
    "mem_layer.CreateField(mem_field)\n",
    "\n",
    "gdal.Polygonize(band, None, mem_layer, 0, [], callback=None)"
   ]
  },
  {
   "cell_type": "code",
   "execution_count": 27,
   "id": "cbeb0af9-106e-4fbf-a891-d4d33c6222f7",
   "metadata": {
    "scrolled": true
   },
   "outputs": [],
   "source": [
    "for feature in mem_layer:\n",
    "    raster_value = feature.GetField('RasterVal')\n",
    "    geometry = feature.GetGeometryRef()\n",
    "    \n",
    "    if 0 >= raster_value >= -0.5: \n",
    "        # create a new feature for the shapefile\n",
    "        new_feature = ogr.Feature(shp_layer.GetLayerDefn())\n",
    "        new_feature.SetField('depth', '0 to -0.5')  # filtered value\n",
    "        new_feature.SetGeometry(geometry)  # copy geometry\n",
    "        shp_layer.CreateFeature(new_feature)  # add to the shapefile\n",
    "        new_feature = None  # clean up\n",
    "    if -0.5 > raster_value >= -1: \n",
    "        new_feature = ogr.Feature(shp_layer.GetLayerDefn())\n",
    "        new_feature.SetField('depth', '-0.5 to -1')  \n",
    "        new_feature.SetGeometry(geometry)  \n",
    "        shp_layer.CreateFeature(new_feature)  \n",
    "        new_feature = None  \n",
    "    if -1 > raster_value >= -2: \n",
    "        new_feature = ogr.Feature(shp_layer.GetLayerDefn())\n",
    "        new_feature.SetField('depth', '-1 to -2') \n",
    "        new_feature.SetGeometry(geometry)  \n",
    "        shp_layer.CreateFeature(new_feature)  \n",
    "        new_feature = None \n",
    "    if -2 > raster_value >= -5: \n",
    "        new_feature = ogr.Feature(shp_layer.GetLayerDefn())\n",
    "        new_feature.SetField('depth', '-2 to -5') \n",
    "        new_feature.SetGeometry(geometry)  \n",
    "        shp_layer.CreateFeature(new_feature) \n",
    "        new_feature = None  # Clean up\n",
    "    if -5 > raster_value >= -10: \n",
    "        new_feature = ogr.Feature(shp_layer.GetLayerDefn())\n",
    "        new_feature.SetField('depth', '-5 to -10')  \n",
    "        new_feature.SetGeometry(geometry)  \n",
    "        shp_layer.CreateFeature(new_feature) \n",
    "        new_feature = None \n",
    "\n",
    "# ensure all changes are written to disk\n",
    "create_shp.Destroy()\n",
    "mem_ds = None\n",
    "band = None"
   ]
  },
  {
   "cell_type": "code",
   "execution_count": 28,
   "id": "61c570cf-f609-4238-9750-07e7fac6eb83",
   "metadata": {},
   "outputs": [],
   "source": [
    "import geopandas as gpd"
   ]
  },
  {
   "cell_type": "code",
   "execution_count": 29,
   "id": "c9b871e6-adfc-415a-b369-01c34b893de9",
   "metadata": {},
   "outputs": [
    {
     "data": {
      "text/html": [
       "<div>\n",
       "<style scoped>\n",
       "    .dataframe tbody tr th:only-of-type {\n",
       "        vertical-align: middle;\n",
       "    }\n",
       "\n",
       "    .dataframe tbody tr th {\n",
       "        vertical-align: top;\n",
       "    }\n",
       "\n",
       "    .dataframe thead th {\n",
       "        text-align: right;\n",
       "    }\n",
       "</style>\n",
       "<table border=\"1\" class=\"dataframe\">\n",
       "  <thead>\n",
       "    <tr style=\"text-align: right;\">\n",
       "      <th></th>\n",
       "      <th>depth</th>\n",
       "      <th>geometry</th>\n",
       "    </tr>\n",
       "  </thead>\n",
       "  <tbody>\n",
       "    <tr>\n",
       "      <th>23724</th>\n",
       "      <td>-2 to -5</td>\n",
       "      <td>POLYGON ((-84.33842 29.8934, -84.3384 29.8934,...</td>\n",
       "    </tr>\n",
       "    <tr>\n",
       "      <th>23725</th>\n",
       "      <td>-2 to -5</td>\n",
       "      <td>POLYGON ((-84.33833 29.8934, -84.33832 29.8934...</td>\n",
       "    </tr>\n",
       "    <tr>\n",
       "      <th>23726</th>\n",
       "      <td>-0.5 to -1</td>\n",
       "      <td>POLYGON ((-84.38283 29.89406, -84.38278 29.894...</td>\n",
       "    </tr>\n",
       "    <tr>\n",
       "      <th>23727</th>\n",
       "      <td>-2 to -5</td>\n",
       "      <td>POLYGON ((-84.33851 29.89339, -84.3385 29.8933...</td>\n",
       "    </tr>\n",
       "    <tr>\n",
       "      <th>23728</th>\n",
       "      <td>-2 to -5</td>\n",
       "      <td>POLYGON ((-84.33842 29.89339, -84.3384 29.8933...</td>\n",
       "    </tr>\n",
       "    <tr>\n",
       "      <th>23729</th>\n",
       "      <td>-2 to -5</td>\n",
       "      <td>POLYGON ((-84.33849 29.89333, -84.33847 29.893...</td>\n",
       "    </tr>\n",
       "    <tr>\n",
       "      <th>23730</th>\n",
       "      <td>-2 to -5</td>\n",
       "      <td>POLYGON ((-84.33936 29.89325, -84.33933 29.893...</td>\n",
       "    </tr>\n",
       "    <tr>\n",
       "      <th>23731</th>\n",
       "      <td>-2 to -5</td>\n",
       "      <td>POLYGON ((-84.33816 29.89374, -84.33813 29.893...</td>\n",
       "    </tr>\n",
       "    <tr>\n",
       "      <th>23732</th>\n",
       "      <td>-2 to -5</td>\n",
       "      <td>POLYGON ((-84.33866 29.89324, -84.33865 29.893...</td>\n",
       "    </tr>\n",
       "    <tr>\n",
       "      <th>23733</th>\n",
       "      <td>-2 to -5</td>\n",
       "      <td>POLYGON ((-84.33782 29.89397, -84.3378 29.8939...</td>\n",
       "    </tr>\n",
       "  </tbody>\n",
       "</table>\n",
       "</div>"
      ],
      "text/plain": [
       "            depth                                           geometry\n",
       "23724    -2 to -5  POLYGON ((-84.33842 29.8934, -84.3384 29.8934,...\n",
       "23725    -2 to -5  POLYGON ((-84.33833 29.8934, -84.33832 29.8934...\n",
       "23726  -0.5 to -1  POLYGON ((-84.38283 29.89406, -84.38278 29.894...\n",
       "23727    -2 to -5  POLYGON ((-84.33851 29.89339, -84.3385 29.8933...\n",
       "23728    -2 to -5  POLYGON ((-84.33842 29.89339, -84.3384 29.8933...\n",
       "23729    -2 to -5  POLYGON ((-84.33849 29.89333, -84.33847 29.893...\n",
       "23730    -2 to -5  POLYGON ((-84.33936 29.89325, -84.33933 29.893...\n",
       "23731    -2 to -5  POLYGON ((-84.33816 29.89374, -84.33813 29.893...\n",
       "23732    -2 to -5  POLYGON ((-84.33866 29.89324, -84.33865 29.893...\n",
       "23733    -2 to -5  POLYGON ((-84.33782 29.89397, -84.3378 29.8939..."
      ]
     },
     "execution_count": 29,
     "metadata": {},
     "output_type": "execute_result"
    }
   ],
   "source": [
    "pol_l = gpd.read_file(output_shp)\n",
    "pol_l.tail(10)"
   ]
  },
  {
   "cell_type": "code",
   "execution_count": null,
   "id": "4a95ccdc-f852-49f3-a26d-1e69c9917386",
   "metadata": {},
   "outputs": [],
   "source": []
  }
 ],
 "metadata": {
  "kernelspec": {
   "display_name": "Python 3 (ipykernel)",
   "language": "python",
   "name": "python3"
  },
  "language_info": {
   "codemirror_mode": {
    "name": "ipython",
    "version": 3
   },
   "file_extension": ".py",
   "mimetype": "text/x-python",
   "name": "python",
   "nbconvert_exporter": "python",
   "pygments_lexer": "ipython3",
   "version": "3.11.7"
  }
 },
 "nbformat": 4,
 "nbformat_minor": 5
}
